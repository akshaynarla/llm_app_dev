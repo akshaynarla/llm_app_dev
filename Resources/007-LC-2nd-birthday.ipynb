{
 "cells": [
  {
   "cell_type": "markdown",
   "id": "6e02fb53-dcbf-4f62-98bc-158ced156c24",
   "metadata": {},
   "source": [
    "# LangChain's Second Birthday (from Accelera AI Spain)\n",
    "* During the second year:\n",
    "    * From 20M to 130M total downloads.\n",
    "    * From 30k to 132k apps built by LangChain.\n",
    "* Some of the latest popular LangChain projects:\n",
    "    * AI Agent for Coding at Replit.\n",
    "    * AI Agent for Customer Support at L’Oréal.\n",
    "    * AI Agent for Sales at Unify.\n",
    "    * AI Agent for Insurance Claims at Five Sigma.\n",
    "    * AI Agent for Quality Control of complex real-estate flows at Rexera.\n",
    "    * AI Agent to provide Business Data to make better decisions at Dun & Bradstreet.\n",
    "* **It still feels very early in our journey to build applications with LLMs**.\n",
    "* We want to reflect on how langchain has evolved and where we’re headed next."
   ]
  },
  {
   "cell_type": "markdown",
   "id": "c042aab9-ea2c-4b82-9ee0-1fe63d7af84b",
   "metadata": {},
   "source": [
    "## New tooling, same mission: Enabling applications that can reason\n",
    "* We want to make it as easy as possible to build context-aware, agentic applications.\n",
    "* While langchain remains our most popular product, we've expanded with two additional key products — LangGraph and LangSmith.\n",
    "* Today, the greater challenge is creating high-quality applications that work reliably and make a real impact."
   ]
  },
  {
   "cell_type": "markdown",
   "id": "f39efb7b-04f8-4a9d-b111-2937c55a8fdb",
   "metadata": {},
   "source": [
    "## How the ecosystem has evolved\n",
    "* The ecosystem has evolved in three significant ways:\n",
    "    * The ecosystem has stabilized. LLM applications are no longer being built solely in hackathons — they are being shipped to production.\n",
    "    * The ecosystem has exploded. When langchain first launched, there were approximately 3 LLM providers. Today, there are over 70 model providers, along with countless integrations (document loaders, vector stores, and more) - totaling over 700 different integrations in langchain.\n",
    "    * The ecosystem has matured. **The focus has shifted from simply building a prototype to making their LLM app production-ready**.\n",
    "        * **\"Easy to get started\" does not equal to \"easy to get to production\"**."
   ]
  },
  {
   "cell_type": "markdown",
   "id": "e5fb4d69-0b5f-44b8-8a83-44175d62e469",
   "metadata": {},
   "source": [
    "## What was preventing developers from shipping their apps to real users?\n",
    "* **Reflecting about that question made the LangChain team to build LangSmith and LangGraph**."
   ]
  },
  {
   "cell_type": "markdown",
   "id": "f5667ec9-719f-4f78-9d6c-44739ece3e2b",
   "metadata": {},
   "source": [
    "## LangSmith: Testing and observability for production-ready LLM apps\n",
    "* In our conversations with early langchain users and partners, we consistently heard about the unreliability of LLMs being a big roadblock.\n",
    "* We began developing LangSmith to address two key needs: observability and evaluation.\n",
    "    * Adding observability helps developers pinpoint where their LLM apps are messing up,\n",
    "    * while evaluation prevents regressions and ensures continuous app improvement.\n",
    "* Along the way, we collected the best practices for testing & evaluating LLM apps. "
   ]
  },
  {
   "cell_type": "markdown",
   "id": "1bed8341-c082-41b7-b448-80993b4cf789",
   "metadata": {},
   "source": [
    "## LangGraph: Agent control with flexible orchestration\n",
    "* As we collaborated with talented builders, startups, and enterprises, another challenge emerged. It became clear that higher-level, prebuilt constructs in LangChain weren't enough for production use cases. We kept hearing that off-the-shelf chains were too rigid, and **pre-configured agents lacked the reliability developers needed at scale**.\n",
    "* We realized that in order to increase the reliability, **developers needed more control** over the cognitive architectures of their applications.\n",
    "* Inspired by all the feedback, we built LangGraph — a flexible orchestration framework that lets developers build agents across a spectrum of autonomy, from precisely-defined workflows to more autonomous, adaptive agents.\n",
    "* LangGraph provides a **flexible architecture for users to customize their agents to their individual or business needs**.\n",
    "* With human-in-the-loop support and moderation loops, a LangGraph user has more control over their agent's behavior to ensure reliable outputs.\n",
    "* We've seen exciting use cases built on LangGraph — from Replit’s coding agent to [Unify’s sales agent.](https://blog.langchain.dev/unify-launches-agents-for-account-qualification-using-langgraph-and-langsmith/)"
   ]
  },
  {
   "cell_type": "markdown",
   "id": "3e89b06d-b846-4a44-a29f-f3d23e828564",
   "metadata": {},
   "source": [
    "## LangChain open source today\n",
    "* Today, langchain is:\n",
    "    * More stable. We went to our first stable release in early 2024, and we’ve had only had two releases with breaking changes since.\n",
    "    * More comprehensive. Integrations continue to be a main part of langchain. We now have dedicated integration packages for our top partners.\n",
    "    * More production-ready.\n",
    "        * LangSmith to provide best-in-class observability and testing for LLM apps.\n",
    "        * Langgraph framework to enable powerful custom cognitive architectures. We have showed how to integrate langchain components and migrate old langchain chains into more robust LangGraph applications."
   ]
  },
  {
   "cell_type": "markdown",
   "id": "6a6d3f5f-3c0b-48ff-aaeb-d60d0907033a",
   "metadata": {},
   "source": [
    "## The road ahead for LangChain\n",
    "* The main goal remains: to make it as easy as possible to build LLM applications that reason.\n",
    "* We think this space is still in its early days and that there is a LOT of tooling to be built to make it enable developers to create game-changing applications."
   ]
  },
  {
   "cell_type": "code",
   "execution_count": null,
   "id": "ca7f32dd-db57-4015-8d7e-52a5d6e57bac",
   "metadata": {},
   "outputs": [],
   "source": []
  }
 ],
 "metadata": {
  "kernelspec": {
   "display_name": "Python 3 (ipykernel)",
   "language": "python",
   "name": "python3"
  },
  "language_info": {
   "codemirror_mode": {
    "name": "ipython",
    "version": 3
   },
   "file_extension": ".py",
   "mimetype": "text/x-python",
   "name": "python",
   "nbconvert_exporter": "python",
   "pygments_lexer": "ipython3",
   "version": "3.11.4"
  }
 },
 "nbformat": 4,
 "nbformat_minor": 5
}
